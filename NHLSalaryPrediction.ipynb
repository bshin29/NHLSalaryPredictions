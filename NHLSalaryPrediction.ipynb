{
  "nbformat": 4,
  "nbformat_minor": 0,
  "metadata": {
    "accelerator": "GPU",
    "colab": {
      "name": "NHLSalaryPrediction.ipynb",
      "provenance": []
    },
    "kernelspec": {
      "display_name": "Python 3",
      "language": "python",
      "name": "python3"
    },
    "language_info": {
      "codemirror_mode": {
        "name": "ipython",
        "version": 3
      },
      "file_extension": ".py",
      "mimetype": "text/x-python",
      "name": "python",
      "nbconvert_exporter": "python",
      "pygments_lexer": "ipython3",
      "version": "3.7.4"
    }
  },
  "cells": [
    {
      "cell_type": "markdown",
      "metadata": {
        "id": "-WAqqXAtDrWo"
      },
      "source": [
        "# Prediction NHL Player Salaries from Statistical Data\n",
        "\n",
        "Data sourced from Kaggle: https://www.kaggle.com/camnugent/predict-nhl-player-salaries"
      ]
    },
    {
      "cell_type": "code",
      "metadata": {
        "id": "9o0JJEI2DrWs"
      },
      "source": [
        "import numpy as np\n",
        "import pandas as pd\n",
        "import matplotlib.pyplot as plt\n",
        "import seaborn as sns\n",
        "from sklearn.model_selection import train_test_split"
      ],
      "execution_count": 1,
      "outputs": []
    },
    {
      "cell_type": "code",
      "metadata": {
        "colab": {
          "base_uri": "https://localhost:8080/"
        },
        "id": "yF6Rr2WMDtwf",
        "outputId": "fce82e6e-7a8c-4345-8319-5bda03bc845a"
      },
      "source": [
        "from google.colab import drive\n",
        "drive.mount('/content/drive')"
      ],
      "execution_count": 2,
      "outputs": [
        {
          "output_type": "stream",
          "text": [
            "Drive already mounted at /content/drive; to attempt to forcibly remount, call drive.mount(\"/content/drive\", force_remount=True).\n"
          ],
          "name": "stdout"
        }
      ]
    },
    {
      "cell_type": "markdown",
      "metadata": {
        "id": "h6C3yI4WDrWt"
      },
      "source": [
        "## 1. Load Data\n",
        "\n",
        "Note: The \"clean\" data has all [Entry-Level Contracts](https://www.dkpittsburghsports.com/2020/10/10/nhl-waivers-contracts-faq-tlh) removed from the dataset. In the context of NHL player salaries, an ELC is standardized by the NHLPA and will never change (thus, there is nothing to predict). These were considered as irrelevant data points and removed from the dataset. "
      ]
    },
    {
      "cell_type": "code",
      "metadata": {
        "id": "LjOc6sJaDrWu"
      },
      "source": [
        "data = pd.read_csv('/content/drive/MyDrive/Colab Notebooks/data_clean.csv')\n",
        "test_data = pd.read_csv('/content/drive/MyDrive/Colab Notebooks/test.csv')\n",
        "raw_data = pd.read_csv('/content/drive/MyDrive/Colab Notebooks/data.csv')"
      ],
      "execution_count": 26,
      "outputs": []
    },
    {
      "cell_type": "markdown",
      "metadata": {
        "id": "weGwOxd8DrWu"
      },
      "source": [
        "### 1.1 Prepare the feature matrix and target vector\n",
        "Loading the data into feature matrix `X` and target vector `y`."
      ]
    },
    {
      "cell_type": "code",
      "metadata": {
        "colab": {
          "base_uri": "https://localhost:8080/"
        },
        "id": "90l0snvbDrWv",
        "outputId": "4393e953-261e-43e7-ace9-b35c257caad9"
      },
      "source": [
        "X = data.iloc[:,2:28]  #Independent Columns. Removed the \"Name\" Column as it has no significance\n",
        "y = data.iloc[:,0]     #Target column (salary)\n",
        "\n",
        "#print dimensions and type of both X and y\n",
        "print(\"Feature matrix X: shape:\",X.shape,\", type:\",type(X))\n",
        "print(\"Target vector y: shape:\",y.shape,\", type:\",type(y))"
      ],
      "execution_count": 4,
      "outputs": [
        {
          "output_type": "stream",
          "text": [
            "Feature matrix X: shape: (766, 24) , type: <class 'pandas.core.frame.DataFrame'>\n",
            "Target vector y: shape: (766,) , type: <class 'pandas.core.series.Series'>\n"
          ],
          "name": "stdout"
        }
      ]
    },
    {
      "cell_type": "markdown",
      "metadata": {
        "id": "J6aJ06y-DrWw"
      },
      "source": [
        "## 2. Data Visualization"
      ]
    },
    {
      "cell_type": "markdown",
      "metadata": {
        "id": "zroc9jx2DrWx"
      },
      "source": [
        "### 2.1. Plotting Age Distribution in NHL"
      ]
    },
    {
      "cell_type": "code",
      "metadata": {
        "colab": {
          "base_uri": "https://localhost:8080/",
          "height": 295
        },
        "id": "s70T6bnFDrWx",
        "outputId": "d3809aca-cc17-4a77-802e-2f7f8e681f09"
      },
      "source": [
        "# Plotting Age Data #\n",
        "raw_data['Age'].value_counts().plot(kind='barh',color='c')\n",
        "plt.ylabel('Number of Players')\n",
        "plt.xlabel('Age (Years)')\n",
        "plt.title('Age Distribution in the NHL')\n",
        "plt.show()"
      ],
      "execution_count": 5,
      "outputs": [
        {
          "output_type": "display_data",
          "data": {
            "image/png": "[encoded data removed]",
            "text/plain": [
              "<Figure size 432x288 with 1 Axes>"
            ]
          },
          "metadata": {
            "tags": [],
            "needs_background": "light"
          }
        }
      ]
    },
    {
      "cell_type": "markdown",
      "metadata": {
        "id": "ciztCaFODrWy"
      },
      "source": [
        "### 2.2. Plotting Nationality Distribution in NHL"
      ]
    },
    {
      "cell_type": "code",
      "metadata": {
        "colab": {
          "base_uri": "https://localhost:8080/",
          "height": 295
        },
        "id": "JaB27J9lDrWz",
        "outputId": "959e3b0c-555b-43e8-ae4a-f5d3d79d2429"
      },
      "source": [
        "# Country Data #\n",
        "raw_data['Country'].value_counts().plot(kind='barh',color='g')\n",
        "plt.ylabel('Player Nationality')\n",
        "plt.xlabel('Number of Players')\n",
        "plt.title('Nationality Distribution in the NHL')\n",
        "plt.show()"
      ],
      "execution_count": 6,
      "outputs": [
        {
          "output_type": "display_data",
          "data": {
            "image/png": "[encoded data removed]",
            "text/plain": [
              "<Figure size 432x288 with 1 Axes>"
            ]
          },
          "metadata": {
            "tags": [],
            "needs_background": "light"
          }
        }
      ]
    },
    {
      "cell_type": "markdown",
      "metadata": {
        "id": "3SoXB-aoDrWz"
      },
      "source": [
        "### 2.3. Plotting Salary Distribution in NHL"
      ]
    },
    {
      "cell_type": "code",
      "metadata": {
        "colab": {
          "base_uri": "https://localhost:8080/",
          "height": 295
        },
        "id": "cOW59mBcDrW0",
        "outputId": "8e722d85-2b97-4758-d446-f14604f4e5eb"
      },
      "source": [
        "# Salary Data #\n",
        "salary=raw_data['Salary'].values\n",
        "salary2=salary.round(-5)\n",
        "\n",
        "salaries,count = np.unique(salary2, return_counts=True)\n",
        "salaries=salaries/1000000\n",
        "\n",
        "plt.bar(salaries, count, align='center', alpha=0.6,color='orange')\n",
        "\n",
        "plt.ylabel('Frequency of Salary')\n",
        "plt.xlabel('Salary ( x $1,000,000)')\n",
        "plt.title('Frequency of Salary Occurances')\n",
        "\n",
        "plt.show()"
      ],
      "execution_count": 7,
      "outputs": [
        {
          "output_type": "display_data",
          "data": {
            "image/png": "[encoded data removed]",
            "text/plain": [
              "<Figure size 432x288 with 1 Axes>"
            ]
          },
          "metadata": {
            "tags": [],
            "needs_background": "light"
          }
        }
      ]
    },
    {
      "cell_type": "markdown",
      "metadata": {
        "id": "9BhUP1SQDrW0"
      },
      "source": [
        "## 3. Using KBest for Feature Importance"
      ]
    },
    {
      "cell_type": "code",
      "metadata": {
        "colab": {
          "base_uri": "https://localhost:8080/"
        },
        "id": "uRZ6n0OYDrW0",
        "outputId": "0f910c47-8615-4b91-da47-f445cb1ac261"
      },
      "source": [
        "from sklearn.feature_selection import SelectKBest\n",
        "from sklearn.feature_selection import chi2\n",
        "\n",
        "bestfeatures = SelectKBest(score_func=chi2, k=10)\n",
        "fit = bestfeatures.fit(X,y)\n",
        "\n",
        "dfscores = pd.DataFrame(fit.scores_)\n",
        "dfcolumns = pd.DataFrame(X.columns)\n",
        "\n",
        "featureScores = pd.concat([dfcolumns,dfscores],axis=1)\n",
        "featureScores.columns = ['Specs','Score']\n",
        "print(featureScores.nlargest(10,'Score'))"
      ],
      "execution_count": 8,
      "outputs": [
        {
          "output_type": "stream",
          "text": [
            "           Specs          Score\n",
            "21    Career PTS  137881.066634\n",
            "18     Career GP  137805.399012\n",
            "20      Career A   86742.569204\n",
            "19      Career G   55081.789735\n",
            "3          Draft   25626.732021\n",
            "13  PTS Last Szn    9396.547759\n",
            "12    A Last Szn    6316.911570\n",
            "10   GP Last Szn    5666.387842\n",
            "11    G Last Szn    3656.739204\n",
            "7        Seasons    1214.871781\n"
          ],
          "name": "stdout"
        }
      ]
    },
    {
      "cell_type": "code",
      "metadata": {
        "id": "qep67dl0DrW1"
      },
      "source": [
        "cleaned_data=data[['Career PTS', 'Career GP', 'Career A','Career G','Draft','PTS Last Szn','A Last Szn','GP Last Szn','G Last Szn','Seasons']]\n",
        "X_train, X_test, y_train, y_test = train_test_split(cleaned_data, y, test_size=0.2, random_state=0)"
      ],
      "execution_count": 9,
      "outputs": []
    },
    {
      "cell_type": "markdown",
      "metadata": {
        "id": "OHPG-MDuDrW1"
      },
      "source": [
        "## 4. Compare models using cross-validation"
      ]
    },
    {
      "cell_type": "code",
      "metadata": {
        "id": "GG3cgyc1DrW1"
      },
      "source": [
        "from sklearn.model_selection import cross_validate\n",
        "from sklearn.metrics import mean_squared_error\n",
        "\n",
        "def get_regressor_neg_rms(model, X, y, cv=7):\n",
        "    rms = cross_validate(model,X,y,cv=cv,scoring='r2',return_train_score=True)\n",
        "    \n",
        "    return np.average(rms['train_score']),np.average(rms['test_score'])"
      ],
      "execution_count": 10,
      "outputs": []
    },
    {
      "cell_type": "code",
      "metadata": {
        "colab": {
          "base_uri": "https://localhost:8080/"
        },
        "id": "TUlnT6NGDrW2",
        "outputId": "024b1917-2b88-45a4-ac5f-855604300a1e"
      },
      "source": [
        "from sklearn.linear_model import LinearRegression #import LinearRegression\n",
        "from sklearn.ensemble import RandomForestRegressor #import RandomForestRegerssor\n",
        "from sklearn.ensemble import GradientBoostingRegressor #import Gradient-boosted regressor\n",
        "\n",
        "LR_models = [LinearRegression(), RandomForestRegressor(random_state=64),GradientBoostingRegressor(random_state=79)]\n",
        "\n",
        "for model in LR_models:\n",
        "    print('\\033[1m',type(model).__name__,'\\033[0mnegative root mean square')\n",
        "    train_rms, val_rms = get_regressor_neg_rms(model,X_train,y_train)\n",
        "    print(\"\\tTraining scores: \",np.around(train_rms,2))\n",
        "    print(\"\\tValidation scores: \",np.around(val_rms,2),\"\\n\")"
      ],
      "execution_count": 11,
      "outputs": [
        {
          "output_type": "stream",
          "text": [
            "\u001b[1m LinearRegression \u001b[0mnegative root mean square\n",
            "\tTraining scores:  0.63\n",
            "\tValidation scores:  0.59 \n",
            "\n",
            "\u001b[1m RandomForestRegressor \u001b[0mnegative root mean square\n",
            "\tTraining scores:  0.96\n",
            "\tValidation scores:  0.68 \n",
            "\n",
            "\u001b[1m GradientBoostingRegressor \u001b[0mnegative root mean square\n",
            "\tTraining scores:  0.94\n",
            "\tValidation scores:  0.66 \n",
            "\n"
          ],
          "name": "stdout"
        }
      ]
    },
    {
      "cell_type": "markdown",
      "metadata": {
        "id": "XtfL6gdWDrW2"
      },
      "source": [
        "## 5. Hyperparameter tuning using grid search"
      ]
    },
    {
      "cell_type": "markdown",
      "metadata": {
        "id": "_pwKviQ1DrW3"
      },
      "source": [
        "### 5.1 Grid search for RandomForestRegressor"
      ]
    },
    {
      "cell_type": "code",
      "metadata": {
        "id": "_ttX2kn9DrW3"
      },
      "source": [
        "from sklearn.model_selection import GridSearchCV\n",
        "\n",
        "param_grid = {'n_estimators': [100, 200, 500],\n",
        "             'max_depth': [ 11, 13, 15, 17],\n",
        "             'max_features': ['auto', 'log2', None]}\n",
        "\n",
        "grid_rf = GridSearchCV(RandomForestRegressor(random_state=64), param_grid, cv=7,scoring='r2')"
      ],
      "execution_count": 18,
      "outputs": []
    },
    {
      "cell_type": "code",
      "metadata": {
        "colab": {
          "base_uri": "https://localhost:8080/"
        },
        "id": "qsfFxNuoDrW3",
        "outputId": "ba169934-88a6-4434-a492-9a96442a4c63"
      },
      "source": [
        "grid_rf.fit(X_train,y_train)"
      ],
      "execution_count": 19,
      "outputs": [
        {
          "output_type": "execute_result",
          "data": {
            "text/plain": [
              "GridSearchCV(cv=7, error_score=nan,\n",
              "             estimator=RandomForestRegressor(bootstrap=True, ccp_alpha=0.0,\n",
              "                                             criterion='mse', max_depth=None,\n",
              "                                             max_features='auto',\n",
              "                                             max_leaf_nodes=None,\n",
              "                                             max_samples=None,\n",
              "                                             min_impurity_decrease=0.0,\n",
              "                                             min_impurity_split=None,\n",
              "                                             min_samples_leaf=1,\n",
              "                                             min_samples_split=2,\n",
              "                                             min_weight_fraction_leaf=0.0,\n",
              "                                             n_estimators=100, n_jobs=None,\n",
              "                                             oob_score=False, random_state=64,\n",
              "                                             verbose=0, warm_start=False),\n",
              "             iid='deprecated', n_jobs=None,\n",
              "             param_grid={'max_depth': [11, 13, 15, 17],\n",
              "                         'max_features': ['auto', 'log2', None],\n",
              "                         'n_estimators': [100, 200, 500]},\n",
              "             pre_dispatch='2*n_jobs', refit=True, return_train_score=False,\n",
              "             scoring='r2', verbose=0)"
            ]
          },
          "metadata": {
            "tags": []
          },
          "execution_count": 19
        }
      ]
    },
    {
      "cell_type": "code",
      "metadata": {
        "id": "HUNlQO00DrW4",
        "colab": {
          "base_uri": "https://localhost:8080/"
        },
        "outputId": "5ebb8be7-aa16-43e0-8007-e0a60ea275d2"
      },
      "source": [
        "print(\"Best parameters for RandomForestRegrssor: \",grid_rf.best_params_)\n",
        "print(\"Best Score for RandomForestRegrssor: {:.2f}\".format(grid_rf.best_score_))"
      ],
      "execution_count": 20,
      "outputs": [
        {
          "output_type": "stream",
          "text": [
            "Best parameters for RandomForestRegrssor:  {'max_depth': 17, 'max_features': 'log2', 'n_estimators': 100}\n",
            "Best Score for RandomForestRegrssor: 0.70\n"
          ],
          "name": "stdout"
        }
      ]
    },
    {
      "cell_type": "markdown",
      "metadata": {
        "id": "51-2RkJODrW4"
      },
      "source": [
        "### 5.2 Grid search for gradient boosted tree"
      ]
    },
    {
      "cell_type": "code",
      "metadata": {
        "id": "pRe5SBIpDrW5"
      },
      "source": [
        "param_grid = {'n_estimators': [100, 200, 500],\n",
        "             'max_depth': [1, 3, 5, 7],\n",
        "             'learning_rate': [0.01, 0.1, 1.0]}\n",
        "\n",
        "grid_gbt = GridSearchCV(GradientBoostingRegressor(random_state=79), param_grid, cv=7,scoring='r2')"
      ],
      "execution_count": 21,
      "outputs": []
    },
    {
      "cell_type": "code",
      "metadata": {
        "id": "HKvgdC84DrW6",
        "colab": {
          "base_uri": "https://localhost:8080/"
        },
        "outputId": "5843638f-53f7-4f91-cc87-3d332ebb1dc2"
      },
      "source": [
        "grid_gbt.fit(X_train,y_train)"
      ],
      "execution_count": 22,
      "outputs": [
        {
          "output_type": "execute_result",
          "data": {
            "text/plain": [
              "GridSearchCV(cv=7, error_score=nan,\n",
              "             estimator=GradientBoostingRegressor(alpha=0.9, ccp_alpha=0.0,\n",
              "                                                 criterion='friedman_mse',\n",
              "                                                 init=None, learning_rate=0.1,\n",
              "                                                 loss='ls', max_depth=3,\n",
              "                                                 max_features=None,\n",
              "                                                 max_leaf_nodes=None,\n",
              "                                                 min_impurity_decrease=0.0,\n",
              "                                                 min_impurity_split=None,\n",
              "                                                 min_samples_leaf=1,\n",
              "                                                 min_samples_split=2,\n",
              "                                                 min_weight_fraction_leaf=0.0,\n",
              "                                                 n_estimators=100,\n",
              "                                                 n_iter_no_change=None,\n",
              "                                                 presort='deprecated',\n",
              "                                                 random_state=79, subsample=1.0,\n",
              "                                                 tol=0.0001,\n",
              "                                                 validation_fraction=0.1,\n",
              "                                                 verbose=0, warm_start=False),\n",
              "             iid='deprecated', n_jobs=None,\n",
              "             param_grid={'learning_rate': [0.01, 0.1, 1.0],\n",
              "                         'max_depth': [1, 3, 5, 7],\n",
              "                         'n_estimators': [100, 200, 500]},\n",
              "             pre_dispatch='2*n_jobs', refit=True, return_train_score=False,\n",
              "             scoring='r2', verbose=0)"
            ]
          },
          "metadata": {
            "tags": []
          },
          "execution_count": 22
        }
      ]
    },
    {
      "cell_type": "code",
      "metadata": {
        "id": "FOsP4XhoDrW6",
        "colab": {
          "base_uri": "https://localhost:8080/"
        },
        "outputId": "7ce848ca-5859-4dae-8d9f-83c16ae2d37f"
      },
      "source": [
        "print(\"Best parameters for GradientBoostedTree: \",grid_gbt.best_params_)\n",
        "print(\"Best Score for GradientBoostedTree: {:.2f}\".format(grid_gbt.best_score_))"
      ],
      "execution_count": 23,
      "outputs": [
        {
          "output_type": "stream",
          "text": [
            "Best parameters for GradientBoostedTree:  {'learning_rate': 0.1, 'max_depth': 1, 'n_estimators': 200}\n",
            "Best Score for GradientBoostedTree: 0.68\n"
          ],
          "name": "stdout"
        }
      ]
    },
    {
      "cell_type": "markdown",
      "metadata": {
        "id": "Ci8S7EUxGWo5"
      },
      "source": [
        "## 6. Retrain best model"
      ]
    },
    {
      "cell_type": "code",
      "metadata": {
        "colab": {
          "base_uri": "https://localhost:8080/"
        },
        "id": "-tnV56AtGXAQ",
        "outputId": "c4361dbd-7468-4e6a-c446-90a9120f639f"
      },
      "source": [
        "best_model = grid_rf.best_estimator_\n",
        "best_model.fit(X_train, y_train)"
      ],
      "execution_count": 24,
      "outputs": [
        {
          "output_type": "execute_result",
          "data": {
            "text/plain": [
              "RandomForestRegressor(bootstrap=True, ccp_alpha=0.0, criterion='mse',\n",
              "                      max_depth=17, max_features='log2', max_leaf_nodes=None,\n",
              "                      max_samples=None, min_impurity_decrease=0.0,\n",
              "                      min_impurity_split=None, min_samples_leaf=1,\n",
              "                      min_samples_split=2, min_weight_fraction_leaf=0.0,\n",
              "                      n_estimators=100, n_jobs=None, oob_score=False,\n",
              "                      random_state=64, verbose=0, warm_start=False)"
            ]
          },
          "metadata": {
            "tags": []
          },
          "execution_count": 24
        }
      ]
    },
    {
      "cell_type": "markdown",
      "metadata": {
        "id": "dqdERxe8HaBR"
      },
      "source": [
        "## 7. Evaluate best model on training and test data"
      ]
    },
    {
      "cell_type": "code",
      "metadata": {
        "colab": {
          "base_uri": "https://localhost:8080/"
        },
        "id": "EnhpjprqHbrY",
        "outputId": "756f9f76-b68a-4c6f-afe7-10116c383092"
      },
      "source": [
        "from sklearn.metrics import r2_score\n",
        "\n",
        "def return_scores(X_data,y_data):\n",
        "    y_predict = best_model.predict(X_data)\n",
        "    mse = np.sqrt(mean_squared_error(y_data,y_predict))\n",
        "    r2 = r2_score(y_data,y_predict)\n",
        "    print(\"Root mean-squared error: {:.2f}\".format(mse))\n",
        "    print(\"R-squared: {:.3f}\".format(r2),\"\\n\")\n",
        "    \n",
        "##training data\n",
        "print(\"\\033[1mTraining scores\\033[0m\")\n",
        "return_scores(X_train,y_train)\n",
        "\n",
        "##testing data\n",
        "print(\"\\033[1mTest scores\\033[0m\")\n",
        "return_scores(X_test,y_test)\n"
      ],
      "execution_count": 25,
      "outputs": [
        {
          "output_type": "stream",
          "text": [
            "\u001b[1mTraining scores\u001b[0m\n",
            "Root mean-squared error: 524055.91\n",
            "R-squared: 0.957 \n",
            "\n",
            "\u001b[1mTest scores\u001b[0m\n",
            "Root mean-squared error: 1243710.96\n",
            "R-squared: 0.764 \n",
            "\n"
          ],
          "name": "stdout"
        }
      ]
    },
    {
      "cell_type": "markdown",
      "metadata": {
        "id": "pyi8gHT5H6-a"
      },
      "source": [
        "## 8. Testing a Real-World Example\n",
        "\n",
        "Now, we will test a real world example of Jesse Puljujarvi. Puljujarvi signed a contract worth [$1.175M in 2021](https://www.capfriendly.com/players/jesse-puljujarvi). Let's see if our model can predict that based on his stats before he signed this contract. "
      ]
    },
    {
      "cell_type": "code",
      "metadata": {
        "colab": {
          "base_uri": "https://localhost:8080/"
        },
        "id": "cjccbac7H8-r",
        "outputId": "704f10d1-9d29-46c7-98fd-56b4daa5da91"
      },
      "source": [
        "puljujarvi = (test_data.iloc[23:24,2:28])[['Career PTS', 'Career GP', 'Career A','Career G','Draft','PTS Last Szn','A Last Szn','GP Last Szn','G Last Szn','Seasons']]\n",
        "puljujarvi_salary=best_model.predict(puljujarvi)[0]\n",
        "error = np.round(np.abs(puljujarvi_salary-1175000)/1175000*100,2)\n",
        "\n",
        "print(\"Our model predicts Jesse Puljujarvi's next contract to be worth: $\",puljujarvi_salary,\"M\")\n",
        "print(\"Percent error: \",error,\"%\")"
      ],
      "execution_count": 69,
      "outputs": [
        {
          "output_type": "stream",
          "text": [
            "Our model predicts Jesse Puljujarvi's next contract to be worth: $ 1052100.0 M\n",
            "Percent error:  10.46 %\n"
          ],
          "name": "stdout"
        }
      ]
    },
    {
      "cell_type": "code",
      "metadata": {
        "id": "ylhk04uYI26x"
      },
      "source": [
        ""
      ],
      "execution_count": null,
      "outputs": []
    }
  ]
}